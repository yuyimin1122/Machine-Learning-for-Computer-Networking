{
 "cells": [
  {
   "cell_type": "code",
   "execution_count": 64,
   "metadata": {},
   "outputs": [],
   "source": [
    "import numpy as np\n",
    "import pandas as pd\n",
    "from sklearn import linear_model\n",
    "\n",
    "import matplotlib.pyplot as plt\n",
    "%matplotlib inline\n",
    "plt.rcParams[\"figure.figsize\"] = (8,6)\n",
    "\n",
    "import sys\n",
    "sys.path.append(r'C:\\Users\\Tina_\\Desktop\\Machine learning\\ml-networking-master\\lib') \n",
    "from parse_pcap import pcap_to_pandas, send_rates\n",
    "\n",
    "pcap = pcap_to_pandas(r'C:\\Users\\Tina_\\Desktop\\Machine learning\\Data\\data1.pcap')"
   ]
  },
  {
   "cell_type": "code",
   "execution_count": 65,
   "metadata": {},
   "outputs": [
    {
     "data": {
      "text/html": [
       "<div>\n",
       "<style scoped>\n",
       "    .dataframe tbody tr th:only-of-type {\n",
       "        vertical-align: middle;\n",
       "    }\n",
       "\n",
       "    .dataframe tbody tr th {\n",
       "        vertical-align: top;\n",
       "    }\n",
       "\n",
       "    .dataframe thead th {\n",
       "        text-align: right;\n",
       "    }\n",
       "</style>\n",
       "<table border=\"1\" class=\"dataframe\">\n",
       "  <thead>\n",
       "    <tr style=\"text-align: right;\">\n",
       "      <th></th>\n",
       "      <th>ip_src</th>\n",
       "      <th>ip_dst</th>\n",
       "      <th>length</th>\n",
       "      <th>port_src</th>\n",
       "      <th>port_dst</th>\n",
       "      <th>protocol</th>\n",
       "    </tr>\n",
       "  </thead>\n",
       "  <tbody>\n",
       "    <tr>\n",
       "      <th>0</th>\n",
       "      <td>None</td>\n",
       "      <td>None</td>\n",
       "      <td>1434</td>\n",
       "      <td>443.0</td>\n",
       "      <td>61482.0</td>\n",
       "      <td>TCP</td>\n",
       "    </tr>\n",
       "    <tr>\n",
       "      <th>1</th>\n",
       "      <td>None</td>\n",
       "      <td>None</td>\n",
       "      <td>102</td>\n",
       "      <td>61482.0</td>\n",
       "      <td>443.0</td>\n",
       "      <td>TCP</td>\n",
       "    </tr>\n",
       "    <tr>\n",
       "      <th>2</th>\n",
       "      <td>None</td>\n",
       "      <td>None</td>\n",
       "      <td>1434</td>\n",
       "      <td>443.0</td>\n",
       "      <td>61482.0</td>\n",
       "      <td>TCP</td>\n",
       "    </tr>\n",
       "    <tr>\n",
       "      <th>3</th>\n",
       "      <td>None</td>\n",
       "      <td>None</td>\n",
       "      <td>102</td>\n",
       "      <td>61482.0</td>\n",
       "      <td>443.0</td>\n",
       "      <td>TCP</td>\n",
       "    </tr>\n",
       "    <tr>\n",
       "      <th>4</th>\n",
       "      <td>None</td>\n",
       "      <td>None</td>\n",
       "      <td>1434</td>\n",
       "      <td>443.0</td>\n",
       "      <td>61482.0</td>\n",
       "      <td>TCP</td>\n",
       "    </tr>\n",
       "  </tbody>\n",
       "</table>\n",
       "</div>"
      ],
      "text/plain": [
       "  ip_src ip_dst  length  port_src  port_dst protocol\n",
       "0   None   None    1434     443.0   61482.0      TCP\n",
       "1   None   None     102   61482.0     443.0      TCP\n",
       "2   None   None    1434     443.0   61482.0      TCP\n",
       "3   None   None     102   61482.0     443.0      TCP\n",
       "4   None   None    1434     443.0   61482.0      TCP"
      ]
     },
     "execution_count": 65,
     "metadata": {},
     "output_type": "execute_result"
    }
   ],
   "source": [
    "pdf = pcap.loc[:,['ip_src','ip_dst','length','port_src','port_dst','protocol']]\n",
    "pdf.head(5)"
   ]
  },
  {
   "cell_type": "code",
   "execution_count": 66,
   "metadata": {},
   "outputs": [],
   "source": [
    "pdf_bytes = pdf.groupby(['ip_src','ip_dst','port_src','port_dst','protocol']).sum()\n",
    "pdf_pkts = pdf.groupby(['ip_src','ip_dst','port_src','port_dst','protocol']).count()"
   ]
  },
  {
   "cell_type": "code",
   "execution_count": 67,
   "metadata": {},
   "outputs": [],
   "source": [
    "pkts = pdf_pkts['length'].values\n",
    "byte = pdf_bytes['length'].values\n",
    "\n",
    "points_x = pkts\n",
    "points_y = byte"
   ]
  },
  {
   "cell_type": "code",
   "execution_count": 79,
   "metadata": {},
   "outputs": [
    {
     "data": {
      "image/png": "[encoded data removed]",
      "text/plain": [
       "<Figure size 576x432 with 1 Axes>"
      ]
     },
     "metadata": {
      "needs_background": "light"
     },
     "output_type": "display_data"
    }
   ],
   "source": [
    "###########\n",
    "# Step 1: Create Linear Regression Model\n",
    "linear_regression = linear_model.LinearRegression()\n",
    "\n",
    "# Step 2: Train the Model Using the (x,y) Points\n",
    "# Note: Reshape (-1,1) creates a column vector, which is what fit() expects.\n",
    "linear_regression.fit(points_x.reshape(-1,1), points_y)\n",
    "\n",
    "# Step 3: Input to predict function are x values that the model has never seen.\n",
    "y_hat = linear_regression.predict(np.array([-2,100]).reshape(-1,1))\n",
    "###########\n",
    "\n",
    "# Plot the results along with the points and previous line\n",
    "# Plot the original points.\n",
    "plt.plot(points_x, points_y, '.', color='blue', markersize=12)\n",
    "\n",
    "# Predicted line from sklearn is in red\n",
    "plt.plot([-2, 100], y_hat, color='red', alpha=0.4, linewidth=3)\n",
    "\n",
    "plt.grid(linestyle='--', alpha=0.6)\n",
    "plt.xlim((-1, 50))\n",
    "plt.xlabel('Packets')\n",
    "plt.ylabel('Bytes')\n",
    "plt.show()"
   ]
  },
  {
   "cell_type": "code",
   "execution_count": null,
   "metadata": {},
   "outputs": [],
   "source": []
  }
 ],
 "metadata": {
  "kernelspec": {
   "display_name": "Python 3",
   "language": "python",
   "name": "python3"
  },
  "language_info": {
   "codemirror_mode": {
    "name": "ipython",
    "version": 3
   },
   "file_extension": ".py",
   "mimetype": "text/x-python",
   "name": "python",
   "nbconvert_exporter": "python",
   "pygments_lexer": "ipython3",
   "version": "3.8.5"
  }
 },
 "nbformat": 4,
 "nbformat_minor": 4
}
